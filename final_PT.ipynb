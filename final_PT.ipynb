{
 "cells": [
  {
   "cell_type": "markdown",
   "id": "9566b417-b1a8-439b-96ad-aabd0adec4cf",
   "metadata": {
    "deletable": false,
    "editable": false,
    "tags": []
   },
   "source": [
    "# Find MedDRA PT DME/IME\n",
    "\n",
    "Required files:\n",
    "* **Source Data (.xlsx)**\n",
    "* **IME List (.xlsx)**\n",
    "* **DME List (.xlsx)**\n",
    "\n",
    "| Source data |            | 확인하고 싶은 것    |                    |   |\n",
    "|-------------|------------|---------------------|--------------------|---|\n",
    "| Case #      | MedDRA PT  | DME에 해당하는가?   | IME에 해당하는가?  |   |\n",
    "| 405879647   |     Acute hepatic failure       |                     |                    |   |\n",
    "| 18669758    |     Rhabdomyolysis       |                     |                    |   |\n",
    "| 209855542   |     Pulmonary fibrosis       |                     |                    |   |"
   ]
  },
  {
   "cell_type": "markdown",
   "id": "79cf3627-91ff-4ad7-89d6-282d3c4d298d",
   "metadata": {
    "deletable": false,
    "editable": false,
    "tags": []
   },
   "source": [
    "Cell을 순서대로 선택하고 (오른 마우스 클릭) 파랗게 선택된 상태에 cell을 실행하세요 `Shift` + `Enter`\n",
    "* Cell 옆에 별표 `[*]`은 계산중이나 사용자 입력을 기다리는 뜻을 의미합니다.\n",
    "* 파일을 모두 업로드 해야 진행이 가능합니다. \n",
    "* 파일 업로드 후, `(1)` 표시 확인.\n",
    "* 파일을 다시 업로드하는 경우, cell을 다시 실행 하세요 (1. cell 선택 2. cell 실행 `Shift` + `Enter`)"
   ]
  },
  {
   "cell_type": "code",
   "execution_count": 1,
   "id": "15bbec61-6925-44b9-a724-2a2c80c45ff1",
   "metadata": {
    "deletable": false,
    "editable": false,
    "tags": []
   },
   "outputs": [
    {
     "data": {
      "application/vnd.jupyter.widget-view+json": {
       "model_id": "02f8cf836b7045d0a07298284df48049",
       "version_major": 2,
       "version_minor": 0
      },
      "text/plain": [
       "FileUpload(value={}, description='Source Data (.xlsx)', layout=Layout(width='250px'))"
      ]
     },
     "metadata": {},
     "output_type": "display_data"
    },
    {
     "data": {
      "application/vnd.jupyter.widget-view+json": {
       "model_id": "a75a9ca4bac54d688e87cc615b1a5546",
       "version_major": 2,
       "version_minor": 0
      },
      "text/plain": [
       "FileUpload(value={}, description='DME List (.xlsx)', layout=Layout(width='250px'))"
      ]
     },
     "metadata": {},
     "output_type": "display_data"
    },
    {
     "data": {
      "application/vnd.jupyter.widget-view+json": {
       "model_id": "2d3f071e290b47e9b6a97518d6903107",
       "version_major": 2,
       "version_minor": 0
      },
      "text/plain": [
       "FileUpload(value={}, description='IME List (.xlsx)', layout=Layout(width='250px'))"
      ]
     },
     "metadata": {},
     "output_type": "display_data"
    }
   ],
   "source": [
    "import utility\n",
    "items = utility.prompt_input()"
   ]
  },
  {
   "cell_type": "markdown",
   "id": "3a99d8a2-e33a-4863-80c3-9ac8fb69e8f3",
   "metadata": {
    "deletable": false,
    "editable": false,
    "tags": []
   },
   "source": [
    "에러나 다시 입력해야하는 경우의 패널 중지 (▣)을 누르시고, cell을 다시 실행하세요"
   ]
  },
  {
   "cell_type": "code",
   "execution_count": 2,
   "id": "ba682674-cebf-402e-8a0c-279837caa3bf",
   "metadata": {
    "deletable": false,
    "editable": false,
    "tags": []
   },
   "outputs": [
    {
     "name": "stdout",
     "output_type": "stream",
     "text": [
      "========================================\n",
      "Source data file\n",
      "========================================\n"
     ]
    },
    {
     "name": "stdin",
     "output_type": "stream",
     "text": [
      "'Case #'이 Case Number 인지 확인 (y/n):  y\n",
      "'MedDRA_pt'이 MedDRRA PT 인지 확인 (y/n):  y\n"
     ]
    },
    {
     "name": "stdout",
     "output_type": "stream",
     "text": [
      "IME/DME 해당하는 표시를 선택하세요\n",
      "(1) True/False\n",
      "(2) O/X\n",
      "(3) Custom\n"
     ]
    },
    {
     "name": "stdin",
     "output_type": "stream",
     "text": [
      "Select option:  2\n"
     ]
    },
    {
     "data": {
      "text/html": [
       "<div>\n",
       "<style scoped>\n",
       "    .dataframe tbody tr th:only-of-type {\n",
       "        vertical-align: middle;\n",
       "    }\n",
       "\n",
       "    .dataframe tbody tr th {\n",
       "        vertical-align: top;\n",
       "    }\n",
       "\n",
       "    .dataframe thead th {\n",
       "        text-align: right;\n",
       "    }\n",
       "</style>\n",
       "<table border=\"1\" class=\"dataframe\">\n",
       "  <thead>\n",
       "    <tr style=\"text-align: right;\">\n",
       "      <th></th>\n",
       "      <th>Case #</th>\n",
       "      <th>MedDRA_pt</th>\n",
       "      <th>DME 해당</th>\n",
       "      <th>IME 해당</th>\n",
       "    </tr>\n",
       "  </thead>\n",
       "  <tbody>\n",
       "    <tr>\n",
       "      <th>0</th>\n",
       "      <td>405879647</td>\n",
       "      <td>ACQUIRED factor VIII deficiency</td>\n",
       "      <td>X</td>\n",
       "      <td>O</td>\n",
       "    </tr>\n",
       "    <tr>\n",
       "      <th>1</th>\n",
       "      <td>18669758</td>\n",
       "      <td>DME_only_test</td>\n",
       "      <td>O</td>\n",
       "      <td>X</td>\n",
       "    </tr>\n",
       "    <tr>\n",
       "      <th>2</th>\n",
       "      <td>209855542</td>\n",
       "      <td>purpura</td>\n",
       "      <td>X</td>\n",
       "      <td>X</td>\n",
       "    </tr>\n",
       "    <tr>\n",
       "      <th>3</th>\n",
       "      <td>82637335</td>\n",
       "      <td>Autoimmune haemolytic anaemia</td>\n",
       "      <td>O</td>\n",
       "      <td>O</td>\n",
       "    </tr>\n",
       "    <tr>\n",
       "      <th>4</th>\n",
       "      <td>242333969</td>\n",
       "      <td>PT neither</td>\n",
       "      <td>X</td>\n",
       "      <td>X</td>\n",
       "    </tr>\n",
       "    <tr>\n",
       "      <th>5</th>\n",
       "      <td>FF40</td>\n",
       "      <td>Ventricular Sionosis</td>\n",
       "      <td>O</td>\n",
       "      <td>X</td>\n",
       "    </tr>\n",
       "    <tr>\n",
       "      <th>6</th>\n",
       "      <td>22444040</td>\n",
       "      <td>Autoimmune anaemia</td>\n",
       "      <td>X</td>\n",
       "      <td>O</td>\n",
       "    </tr>\n",
       "    <tr>\n",
       "      <th>7</th>\n",
       "      <td>30995050</td>\n",
       "      <td>PancreatitiS</td>\n",
       "      <td>O</td>\n",
       "      <td>O</td>\n",
       "    </tr>\n",
       "    <tr>\n",
       "      <th>8</th>\n",
       "      <td>f303030309</td>\n",
       "      <td>Autoimmune aplastic Anaemia</td>\n",
       "      <td>X</td>\n",
       "      <td>O</td>\n",
       "    </tr>\n",
       "  </tbody>\n",
       "</table>\n",
       "</div>"
      ],
      "text/plain": [
       "        Case #                        MedDRA_pt DME 해당 IME 해당\n",
       "0  405879647    ACQUIRED factor VIII deficiency      X      O\n",
       "1   18669758                      DME_only_test      O      X\n",
       "2  209855542                            purpura      X      X\n",
       "3   82637335      Autoimmune haemolytic anaemia      O      O\n",
       "4  242333969                         PT neither      X      X\n",
       "5         FF40             Ventricular Sionosis      O      X\n",
       "6     22444040               Autoimmune anaemia      X      O\n",
       "7     30995050                     PancreatitiS      O      O\n",
       "8   f303030309      Autoimmune aplastic Anaemia      X      O"
      ]
     },
     "execution_count": 2,
     "metadata": {},
     "output_type": "execute_result"
    }
   ],
   "source": [
    "final = utility.control_process(items)\n",
    "final"
   ]
  },
  {
   "cell_type": "markdown",
   "id": "336a2431-1496-4437-8c65-7b3f4b6dcd70",
   "metadata": {
    "deletable": false,
    "editable": false,
    "tags": []
   },
   "source": [
    "파일 내보내기: \n",
    "1. `to_excel(\"파일 이름.xlsx\")`함수 안에 원하는 파일 이름으로 편집 (끝에 \".xlsx\"은 필수).\n",
    "2. Cell을 선택하고 실행 해주세요 (`Shift` + `Enter`).\n",
    "3. 왼쪽 파일 탐색기에서 엑셀 파일이 만들어집니다. 파일에 오른쪽 마우스 클릭 하시고 `download` 옵션을 선택하세요. "
   ]
  },
  {
   "cell_type": "code",
   "execution_count": null,
   "id": "2ccc4afd-e3dd-4401-9e89-e2ebae762770",
   "metadata": {
    "deletable": false,
    "tags": []
   },
   "outputs": [],
   "source": [
    "final.to_excel(\"파일 이름.xlsx\")"
   ]
  },
  {
   "cell_type": "markdown",
   "id": "8fb8557a-553b-4624-b9f5-20a83be1b78a",
   "metadata": {
    "deletable": false,
    "editable": false,
    "tags": []
   },
   "source": [
    "#### 프로그램 종료: 브라우저 창을 닫은 후, 저장에 대한 메시지가 나타나면 저장 안 함을 클릭하세요"
   ]
  }
 ],
 "metadata": {
  "kernelspec": {
   "display_name": "Python 3 (ipykernel)",
   "language": "python",
   "name": "python3"
  },
  "language_info": {
   "codemirror_mode": {
    "name": "ipython",
    "version": 3
   },
   "file_extension": ".py",
   "mimetype": "text/x-python",
   "name": "python",
   "nbconvert_exporter": "python",
   "pygments_lexer": "ipython3",
   "version": "3.9.12"
  }
 },
 "nbformat": 4,
 "nbformat_minor": 5
}
